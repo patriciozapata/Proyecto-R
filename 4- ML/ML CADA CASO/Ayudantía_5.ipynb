{
  "nbformat": 4,
  "nbformat_minor": 0,
  "metadata": {
    "colab": {
      "name": "Ayudantía 5.ipynb",
      "provenance": [],
      "collapsed_sections": [],
      "toc_visible": true
    },
    "kernelspec": {
      "name": "python3",
      "display_name": "Python 3"
    }
  },
  "cells": [
    {
      "cell_type": "markdown",
      "metadata": {
        "id": "6ZCvym5PMuYN"
      },
      "source": [
        "# Ayudantía 5 Diplomado Data Science\n"
      ]
    },
    {
      "cell_type": "markdown",
      "metadata": {
        "id": "MezUO5cpNDuh"
      },
      "source": [
        "Cargamos la base de datos de Cáncer (Recuerde subir esta base de datos al Colab)"
      ]
    },
    {
      "cell_type": "code",
      "metadata": {
        "id": "MqAWuRGlM1Kc",
        "outputId": "aef783c3-d6a6-47db-f528-10d63377fbd9",
        "colab": {
          "base_uri": "https://localhost:8080/",
          "height": 697
        }
      },
      "source": [
        "import pandas as pd\n",
        "cancer = pd.read_csv(r'Cancer.csv')\n",
        "cancer.info()"
      ],
      "execution_count": null,
      "outputs": [
        {
          "output_type": "stream",
          "text": [
            "<class 'pandas.core.frame.DataFrame'>\n",
            "RangeIndex: 569 entries, 0 to 568\n",
            "Data columns (total 33 columns):\n",
            " #   Column                   Non-Null Count  Dtype  \n",
            "---  ------                   --------------  -----  \n",
            " 0   id                       569 non-null    int64  \n",
            " 1   diagnosis                569 non-null    object \n",
            " 2   radius_mean              569 non-null    float64\n",
            " 3   texture_mean             569 non-null    float64\n",
            " 4   perimeter_mean           569 non-null    float64\n",
            " 5   area_mean                569 non-null    float64\n",
            " 6   smoothness_mean          569 non-null    float64\n",
            " 7   compactness_mean         569 non-null    float64\n",
            " 8   concavity_mean           569 non-null    float64\n",
            " 9   concave points_mean      569 non-null    float64\n",
            " 10  symmetry_mean            569 non-null    float64\n",
            " 11  fractal_dimension_mean   569 non-null    float64\n",
            " 12  radius_se                569 non-null    float64\n",
            " 13  texture_se               569 non-null    float64\n",
            " 14  perimeter_se             569 non-null    float64\n",
            " 15  area_se                  569 non-null    float64\n",
            " 16  smoothness_se            569 non-null    float64\n",
            " 17  compactness_se           569 non-null    float64\n",
            " 18  concavity_se             569 non-null    float64\n",
            " 19  concave points_se        569 non-null    float64\n",
            " 20  symmetry_se              569 non-null    float64\n",
            " 21  fractal_dimension_se     569 non-null    float64\n",
            " 22  radius_worst             569 non-null    float64\n",
            " 23  texture_worst            569 non-null    float64\n",
            " 24  perimeter_worst          569 non-null    float64\n",
            " 25  area_worst               569 non-null    float64\n",
            " 26  smoothness_worst         569 non-null    float64\n",
            " 27  compactness_worst        569 non-null    float64\n",
            " 28  concavity_worst          569 non-null    float64\n",
            " 29  concave points_worst     569 non-null    float64\n",
            " 30  symmetry_worst           569 non-null    float64\n",
            " 31  fractal_dimension_worst  569 non-null    float64\n",
            " 32  Unnamed: 32              0 non-null      float64\n",
            "dtypes: float64(31), int64(1), object(1)\n",
            "memory usage: 146.8+ KB\n"
          ],
          "name": "stdout"
        }
      ]
    },
    {
      "cell_type": "markdown",
      "metadata": {
        "id": "gOzsvuYTOnV8"
      },
      "source": [
        "Generamos la matriz de covariables $X$ y la variable respuesta $Y$, junto con las bases de entrenamiento y testeo."
      ]
    },
    {
      "cell_type": "code",
      "metadata": {
        "id": "Oxfit3UeO0d9",
        "outputId": "ec1b55d2-b8ea-4a41-b577-237733ad4107",
        "colab": {
          "base_uri": "https://localhost:8080/",
          "height": 419
        }
      },
      "source": [
        "# Variable respuesta/dependiente\n",
        "y = cancer.diagnosis\n",
        "y = y.map({'M': 0, 'B':1}) # Transformamos respuesta a 0-1\n",
        "\n",
        "# Variables explicadoras/independientes\n",
        "lista1 = ['Unnamed: 32','id','diagnosis']\n",
        "X = cancer.drop(lista1, axis =1)\n",
        "\n",
        "# Seleccionamos solo variables _mean\n",
        "lista2 = [col for col in X.columns if not col.endswith('_mean')]\n",
        "X = X.drop(lista2, axis = 1)\n",
        "\n",
        "from sklearn.model_selection import train_test_split\n",
        "x_train, x_test, y_train, y_test = train_test_split(X, y, test_size = 0.2, random_state = 1)"
      ],
      "execution_count": null,
      "outputs": [
        {
          "output_type": "display_data",
          "data": {
            "text/html": [
              "<div>\n",
              "<style scoped>\n",
              "    .dataframe tbody tr th:only-of-type {\n",
              "        vertical-align: middle;\n",
              "    }\n",
              "\n",
              "    .dataframe tbody tr th {\n",
              "        vertical-align: top;\n",
              "    }\n",
              "\n",
              "    .dataframe thead th {\n",
              "        text-align: right;\n",
              "    }\n",
              "</style>\n",
              "<table border=\"1\" class=\"dataframe\">\n",
              "  <thead>\n",
              "    <tr style=\"text-align: right;\">\n",
              "      <th></th>\n",
              "      <th>radius_mean</th>\n",
              "      <th>texture_mean</th>\n",
              "      <th>perimeter_mean</th>\n",
              "      <th>area_mean</th>\n",
              "      <th>smoothness_mean</th>\n",
              "      <th>compactness_mean</th>\n",
              "      <th>concavity_mean</th>\n",
              "      <th>concave points_mean</th>\n",
              "      <th>symmetry_mean</th>\n",
              "      <th>fractal_dimension_mean</th>\n",
              "    </tr>\n",
              "  </thead>\n",
              "  <tbody>\n",
              "    <tr>\n",
              "      <th>408</th>\n",
              "      <td>17.99</td>\n",
              "      <td>20.66</td>\n",
              "      <td>117.80</td>\n",
              "      <td>991.7</td>\n",
              "      <td>0.10360</td>\n",
              "      <td>0.13040</td>\n",
              "      <td>0.120100</td>\n",
              "      <td>0.088240</td>\n",
              "      <td>0.1992</td>\n",
              "      <td>0.06069</td>\n",
              "    </tr>\n",
              "    <tr>\n",
              "      <th>4</th>\n",
              "      <td>20.29</td>\n",
              "      <td>14.34</td>\n",
              "      <td>135.10</td>\n",
              "      <td>1297.0</td>\n",
              "      <td>0.10030</td>\n",
              "      <td>0.13280</td>\n",
              "      <td>0.198000</td>\n",
              "      <td>0.104300</td>\n",
              "      <td>0.1809</td>\n",
              "      <td>0.05883</td>\n",
              "    </tr>\n",
              "    <tr>\n",
              "      <th>307</th>\n",
              "      <td>9.00</td>\n",
              "      <td>14.40</td>\n",
              "      <td>56.36</td>\n",
              "      <td>246.3</td>\n",
              "      <td>0.07005</td>\n",
              "      <td>0.03116</td>\n",
              "      <td>0.003681</td>\n",
              "      <td>0.003472</td>\n",
              "      <td>0.1788</td>\n",
              "      <td>0.06833</td>\n",
              "    </tr>\n",
              "    <tr>\n",
              "      <th>386</th>\n",
              "      <td>12.21</td>\n",
              "      <td>14.09</td>\n",
              "      <td>78.78</td>\n",
              "      <td>462.0</td>\n",
              "      <td>0.08108</td>\n",
              "      <td>0.07823</td>\n",
              "      <td>0.068390</td>\n",
              "      <td>0.025340</td>\n",
              "      <td>0.1646</td>\n",
              "      <td>0.06154</td>\n",
              "    </tr>\n",
              "    <tr>\n",
              "      <th>404</th>\n",
              "      <td>12.34</td>\n",
              "      <td>14.95</td>\n",
              "      <td>78.29</td>\n",
              "      <td>469.1</td>\n",
              "      <td>0.08682</td>\n",
              "      <td>0.04571</td>\n",
              "      <td>0.021090</td>\n",
              "      <td>0.020540</td>\n",
              "      <td>0.1571</td>\n",
              "      <td>0.05708</td>\n",
              "    </tr>\n",
              "    <tr>\n",
              "      <th>...</th>\n",
              "      <td>...</td>\n",
              "      <td>...</td>\n",
              "      <td>...</td>\n",
              "      <td>...</td>\n",
              "      <td>...</td>\n",
              "      <td>...</td>\n",
              "      <td>...</td>\n",
              "      <td>...</td>\n",
              "      <td>...</td>\n",
              "      <td>...</td>\n",
              "    </tr>\n",
              "    <tr>\n",
              "      <th>129</th>\n",
              "      <td>19.79</td>\n",
              "      <td>25.12</td>\n",
              "      <td>130.40</td>\n",
              "      <td>1192.0</td>\n",
              "      <td>0.10150</td>\n",
              "      <td>0.15890</td>\n",
              "      <td>0.254500</td>\n",
              "      <td>0.114900</td>\n",
              "      <td>0.2202</td>\n",
              "      <td>0.06113</td>\n",
              "    </tr>\n",
              "    <tr>\n",
              "      <th>144</th>\n",
              "      <td>10.75</td>\n",
              "      <td>14.97</td>\n",
              "      <td>68.26</td>\n",
              "      <td>355.3</td>\n",
              "      <td>0.07793</td>\n",
              "      <td>0.05139</td>\n",
              "      <td>0.022510</td>\n",
              "      <td>0.007875</td>\n",
              "      <td>0.1399</td>\n",
              "      <td>0.05688</td>\n",
              "    </tr>\n",
              "    <tr>\n",
              "      <th>72</th>\n",
              "      <td>17.20</td>\n",
              "      <td>24.52</td>\n",
              "      <td>114.20</td>\n",
              "      <td>929.4</td>\n",
              "      <td>0.10710</td>\n",
              "      <td>0.18300</td>\n",
              "      <td>0.169200</td>\n",
              "      <td>0.079440</td>\n",
              "      <td>0.1927</td>\n",
              "      <td>0.06487</td>\n",
              "    </tr>\n",
              "    <tr>\n",
              "      <th>235</th>\n",
              "      <td>14.03</td>\n",
              "      <td>21.25</td>\n",
              "      <td>89.79</td>\n",
              "      <td>603.4</td>\n",
              "      <td>0.09070</td>\n",
              "      <td>0.06945</td>\n",
              "      <td>0.014620</td>\n",
              "      <td>0.018960</td>\n",
              "      <td>0.1517</td>\n",
              "      <td>0.05835</td>\n",
              "    </tr>\n",
              "    <tr>\n",
              "      <th>37</th>\n",
              "      <td>13.03</td>\n",
              "      <td>18.42</td>\n",
              "      <td>82.61</td>\n",
              "      <td>523.8</td>\n",
              "      <td>0.08983</td>\n",
              "      <td>0.03766</td>\n",
              "      <td>0.025620</td>\n",
              "      <td>0.029230</td>\n",
              "      <td>0.1467</td>\n",
              "      <td>0.05863</td>\n",
              "    </tr>\n",
              "  </tbody>\n",
              "</table>\n",
              "<p>455 rows × 10 columns</p>\n",
              "</div>"
            ],
            "text/plain": [
              "     radius_mean  texture_mean  ...  symmetry_mean  fractal_dimension_mean\n",
              "408        17.99         20.66  ...         0.1992                 0.06069\n",
              "4          20.29         14.34  ...         0.1809                 0.05883\n",
              "307         9.00         14.40  ...         0.1788                 0.06833\n",
              "386        12.21         14.09  ...         0.1646                 0.06154\n",
              "404        12.34         14.95  ...         0.1571                 0.05708\n",
              "..           ...           ...  ...            ...                     ...\n",
              "129        19.79         25.12  ...         0.2202                 0.06113\n",
              "144        10.75         14.97  ...         0.1399                 0.05688\n",
              "72         17.20         24.52  ...         0.1927                 0.06487\n",
              "235        14.03         21.25  ...         0.1517                 0.05835\n",
              "37         13.03         18.42  ...         0.1467                 0.05863\n",
              "\n",
              "[455 rows x 10 columns]"
            ]
          },
          "metadata": {
            "tags": []
          }
        }
      ]
    },
    {
      "cell_type": "code",
      "metadata": {
        "id": "d3IQWpBAUXCJ",
        "outputId": "fcd758bf-7854-4cc2-cc54-ed17b298d001",
        "colab": {
          "base_uri": "https://localhost:8080/",
          "height": 1000
        }
      },
      "source": [
        "# Gráfico de correlación de los datos\n",
        "import matplotlib.pyplot as plt\n",
        "import seaborn as sns\n",
        "plt.figure(figsize=(18,18))\n",
        "plt.title(\"Correlation Graph\")\n",
        "sns.heatmap(X.corr(), annot= True, cmap = 'pink')"
      ],
      "execution_count": null,
      "outputs": [
        {
          "output_type": "execute_result",
          "data": {
            "text/plain": [
              "<matplotlib.axes._subplots.AxesSubplot at 0x7ff7d5b14780>"
            ]
          },
          "metadata": {
            "tags": []
          },
          "execution_count": 11
        },
        {
          "output_type": "display_data",
          "data": {
            "image/png": "[encoded data removed]",
            "text/plain": [
              "<Figure size 1296x1296 with 2 Axes>"
            ]
          },
          "metadata": {
            "tags": [],
            "needs_background": "light"
          }
        }
      ]
    },
    {
      "cell_type": "markdown",
      "metadata": {
        "id": "d0tRm0unGQqn"
      },
      "source": [
        "Regresión Logística"
      ]
    },
    {
      "cell_type": "code",
      "metadata": {
        "id": "VUlhtcu5GX5F",
        "outputId": "1bedf5dc-0aa6-4292-8394-4f80b62cdd4b",
        "colab": {
          "base_uri": "https://localhost:8080/",
          "height": 255
        }
      },
      "source": [
        "# Cargamos funciones\n",
        "from sklearn.linear_model import LogisticRegression\n",
        "from sklearn.metrics import classification_report, confusion_matrix\n",
        "\n",
        "# Ajustamos el modelo\n",
        "model_log = LogisticRegression(random_state = 1, solver='liblinear')\n",
        "model_log.fit(x_train,y_train)\n",
        "\n",
        "# Calidad de ajuste\n",
        "from sklearn.model_selection import cross_val_score\n",
        "quality_log = cross_val_score(model_log, x_train, y_train, cv=5, scoring='f1_macro')\n",
        "print('F-scores mediante validación cruzada:', quality_log)\n",
        "\n",
        "# Validación del modelo\n",
        "\n",
        "## Calculo de Score\n",
        "score_log = model_log.score(x_test,y_test)\n",
        "print('Score:', score_log)\n",
        "\n",
        "## Calculo de f1_score\n",
        "from sklearn.metrics import f1_score\n",
        "pred_log = model_log.predict(x_test)\n",
        "\n",
        "### Matriz de confusion\n",
        "print(confusion_matrix(y_test, pred_log))\n",
        "print(classification_report(y_test,pred_log))"
      ],
      "execution_count": null,
      "outputs": [
        {
          "output_type": "stream",
          "text": [
            "F-scores mediante validación cruzada: [0.91732641 0.89230769 0.89370539 0.92770127 0.86438152]\n",
            "Score: 0.8859649122807017\n",
            "[[33  9]\n",
            " [ 4 68]]\n",
            "              precision    recall  f1-score   support\n",
            "\n",
            "           0       0.89      0.79      0.84        42\n",
            "           1       0.88      0.94      0.91        72\n",
            "\n",
            "    accuracy                           0.89       114\n",
            "   macro avg       0.89      0.87      0.87       114\n",
            "weighted avg       0.89      0.89      0.88       114\n",
            "\n",
            "F-score: 0.912751677852349\n"
          ],
          "name": "stdout"
        }
      ]
    },
    {
      "cell_type": "markdown",
      "metadata": {
        "id": "6RdWYs-TMFMs"
      },
      "source": [
        "Arbol de decisión"
      ]
    },
    {
      "cell_type": "code",
      "metadata": {
        "id": "vGZ_BMUmMMQL",
        "outputId": "972ae7fb-5bf7-40e6-b454-66896930a32e",
        "colab": {
          "base_uri": "https://localhost:8080/",
          "height": 238
        }
      },
      "source": [
        "from sklearn.tree import DecisionTreeClassifier\n",
        "\n",
        "# Ajustamos el modelo\n",
        "model_tree = DecisionTreeClassifier(random_state = 1)\n",
        "model_tree.fit(x_train,y_train)\n",
        "\n",
        "# Calidad de ajuste\n",
        "quality_tree = cross_val_score(model_tree, x_train, y_train, cv=5, scoring='f1_macro')\n",
        "print('F-scores mediante validación cruzada:', quality_tree)\n",
        "\n",
        "# Validación del modelo\n",
        "\n",
        "## Calculo de Score\n",
        "score_tree = model_tree.score(x_test,y_test)\n",
        "print('Score:', score_log)\n",
        "\n",
        "## Calculo de f1_score\n",
        "pred_tree = model_tree.predict(x_test)\n",
        "\n",
        "### Matriz de confusion\n",
        "print(confusion_matrix(y_test, pred_tree))\n",
        "print(classification_report(y_test,pred_tree))"
      ],
      "execution_count": null,
      "outputs": [
        {
          "output_type": "stream",
          "text": [
            "F-scores mediante validación cruzada: [0.92868339 0.94164422 0.88392857 0.8907563  0.91732641]\n",
            "Score: 0.8859649122807017\n",
            "[[36  6]\n",
            " [ 2 70]]\n",
            "              precision    recall  f1-score   support\n",
            "\n",
            "           0       0.95      0.86      0.90        42\n",
            "           1       0.92      0.97      0.95        72\n",
            "\n",
            "    accuracy                           0.93       114\n",
            "   macro avg       0.93      0.91      0.92       114\n",
            "weighted avg       0.93      0.93      0.93       114\n",
            "\n"
          ],
          "name": "stdout"
        }
      ]
    },
    {
      "cell_type": "markdown",
      "metadata": {
        "id": "qR73M1huOZKF"
      },
      "source": [
        "Random Forest"
      ]
    },
    {
      "cell_type": "code",
      "metadata": {
        "id": "1bnLYUV_Oe0l",
        "outputId": "40bea185-609c-4e92-e712-bf319b9fd8e6",
        "colab": {
          "base_uri": "https://localhost:8080/",
          "height": 238
        }
      },
      "source": [
        "from sklearn.ensemble import RandomForestClassifier\n",
        "\n",
        "# Ajustamos el modelo\n",
        "model_rf = RandomForestClassifier(random_state = 1)\n",
        "model_rf.fit(x_train,y_train)\n",
        "\n",
        "# Calidad de ajuste\n",
        "quality_rf = cross_val_score(model_rf, x_train, y_train, cv=5, scoring='f1_macro')\n",
        "print('F-scores mediante validación cruzada:', quality_rf)\n",
        "\n",
        "# Validación del modelo\n",
        "\n",
        "## Calculo de Score\n",
        "score_rf = model_rf.score(x_test,y_test)\n",
        "print('Score:', score_rf)\n",
        "\n",
        "## Calculo de f1_score\n",
        "pred_rf = model_rf.predict(x_test)\n",
        "\n",
        "### Matriz de confusion\n",
        "print(confusion_matrix(y_test, pred_rf))\n",
        "print(classification_report(y_test,pred_rf))"
      ],
      "execution_count": null,
      "outputs": [
        {
          "output_type": "stream",
          "text": [
            "F-scores mediante validación cruzada: [0.8949596  0.89707176 0.92956656 0.8907563  0.96410256]\n",
            "Score: 0.9210526315789473\n",
            "[[36  6]\n",
            " [ 3 69]]\n",
            "              precision    recall  f1-score   support\n",
            "\n",
            "           0       0.92      0.86      0.89        42\n",
            "           1       0.92      0.96      0.94        72\n",
            "\n",
            "    accuracy                           0.92       114\n",
            "   macro avg       0.92      0.91      0.91       114\n",
            "weighted avg       0.92      0.92      0.92       114\n",
            "\n"
          ],
          "name": "stdout"
        }
      ]
    },
    {
      "cell_type": "markdown",
      "metadata": {
        "id": "oaPOkgULPurk"
      },
      "source": [
        "Naive Bayes"
      ]
    },
    {
      "cell_type": "code",
      "metadata": {
        "id": "dXgtDATnPtlx",
        "outputId": "721376be-40f6-4158-cf95-b6fb27cdffaf",
        "colab": {
          "base_uri": "https://localhost:8080/",
          "height": 292
        }
      },
      "source": [
        "from sklearn.naive_bayes import BernoulliNB\n",
        "\n",
        "# Ajustamos el modelo\n",
        "model_NB = BernoulliNB()\n",
        "model_NB.fit(x_train,y_train)\n",
        "\n",
        "# Calidad de ajuste\n",
        "quality_NB = cross_val_score(model_NB, x_train, y_train, cv=5, scoring='f1_macro')\n",
        "print('F-scores mediante validación cruzada:', quality_NB)\n",
        "\n",
        "# Validación del modelo\n",
        "\n",
        "## Calculo de Score\n",
        "score_NB = model_NB.score(x_test,y_test)\n",
        "print('Score:', score_NB)\n",
        "\n",
        "## Calculo de f1_score\n",
        "pred_NB = model_NB.predict(x_test)\n",
        "\n",
        "### Matriz de confusion\n",
        "print(confusion_matrix(y_test, pred_NB))\n",
        "print(classification_report(y_test,pred_NB))\n"
      ],
      "execution_count": null,
      "outputs": [
        {
          "output_type": "stream",
          "text": [
            "F-scores mediante validación cruzada: [0.38513514 0.38513514 0.38513514 0.38513514 0.38513514]\n",
            "Score: 0.631578947368421\n",
            "[[ 0 42]\n",
            " [ 0 72]]\n",
            "              precision    recall  f1-score   support\n",
            "\n",
            "           0       0.00      0.00      0.00        42\n",
            "           1       0.63      1.00      0.77        72\n",
            "\n",
            "    accuracy                           0.63       114\n",
            "   macro avg       0.32      0.50      0.39       114\n",
            "weighted avg       0.40      0.63      0.49       114\n",
            "\n"
          ],
          "name": "stdout"
        },
        {
          "output_type": "stream",
          "text": [
            "/usr/local/lib/python3.6/dist-packages/sklearn/metrics/_classification.py:1272: UndefinedMetricWarning: Precision and F-score are ill-defined and being set to 0.0 in labels with no predicted samples. Use `zero_division` parameter to control this behavior.\n",
            "  _warn_prf(average, modifier, msg_start, len(result))\n"
          ],
          "name": "stderr"
        }
      ]
    },
    {
      "cell_type": "markdown",
      "metadata": {
        "id": "7KKOV_OQRxZA"
      },
      "source": [
        "KNN"
      ]
    },
    {
      "cell_type": "code",
      "metadata": {
        "id": "1rYYy4t_R8a7",
        "outputId": "54988a4c-33c3-4903-ef7b-93b010424fcf",
        "colab": {
          "base_uri": "https://localhost:8080/",
          "height": 238
        }
      },
      "source": [
        "from sklearn.neighbors import KNeighborsClassifier\n",
        "from sklearn.model_selection import GridSearchCV\n",
        "\n",
        "### Encontrar el mejor K\n",
        "param_grid = {\n",
        "    'n_neighbors' : range(1,20),\n",
        "    'weights' : ['uniform','distance'],\n",
        "    'metric' : ['euclidean','manhattan']\n",
        "}\n",
        "model_KNN = GridSearchCV(KNeighborsClassifier(), param_grid = param_grid)\n",
        "model_KNN.fit(x_train,y_train)\n",
        "\n",
        "# Calidad de ajuste\n",
        "quality_KNN = cross_val_score(model_KNN, x_train, y_train, cv=5, scoring='f1_macro')\n",
        "print('F-scores mediante validación cruzada:', quality_KNN)\n",
        "\n",
        "# Validación del modelo\n",
        "\n",
        "## Calculo de Score\n",
        "score_KNN = model_KNN.score(x_test,y_test)\n",
        "print('Score:', score_KNN)\n",
        "\n",
        "## Calculo de f1_score\n",
        "pred_KNN = model_KNN.predict(x_test)\n",
        "\n",
        "### Matriz de confusion\n",
        "print(confusion_matrix(y_test, pred_KNN))\n",
        "print(classification_report(y_test,pred_KNN))\n"
      ],
      "execution_count": null,
      "outputs": [
        {
          "output_type": "stream",
          "text": [
            "F-scores mediante validación cruzada: [0.88261094 0.86647993 0.89607918 0.8907563  0.82285873]\n",
            "Score: 0.868421052631579\n",
            "[[31 11]\n",
            " [ 4 68]]\n",
            "              precision    recall  f1-score   support\n",
            "\n",
            "           0       0.89      0.74      0.81        42\n",
            "           1       0.86      0.94      0.90        72\n",
            "\n",
            "    accuracy                           0.87       114\n",
            "   macro avg       0.87      0.84      0.85       114\n",
            "weighted avg       0.87      0.87      0.87       114\n",
            "\n"
          ],
          "name": "stdout"
        }
      ]
    }
  ]
}